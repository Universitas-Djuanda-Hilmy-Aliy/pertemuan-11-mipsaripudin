{
  "nbformat": 4,
  "nbformat_minor": 0,
  "metadata": {
    "colab": {
      "provenance": []
    },
    "kernelspec": {
      "name": "python3",
      "display_name": "Python 3"
    },
    "language_info": {
      "name": "python"
    }
  },
  "cells": [
    {
      "cell_type": "markdown",
      "source": [
        "<b>Overfitting</b><br>\n",
        "\n",
        "definisi: sebuah fenomena dimana model yang digunakan terlalu cocok atau sesuai dengan data training sehingga kehilangan kemampuan untuk melakukan deteksi pada data baru (data testing)"
      ],
      "metadata": {
        "id": "Eng_vmjAAgZt"
      }
    },
    {
      "cell_type": "markdown",
      "source": [
        "contoh: ketika hasil training bagus, tapi hasil testingnya buruk"
      ],
      "metadata": {
        "id": "TYq8hpCDBcVk"
      }
    },
    {
      "cell_type": "markdown",
      "source": [
        "Beberapa karakteristik utama terjadinya overfitting:<br>\n",
        "1. Performanya tinggi pada data training, tetapi rendah di testing\n",
        "2. Model yang dibuat terlalu rumit"
      ],
      "metadata": {
        "id": "s64oLlCfBvCB"
      }
    },
    {
      "cell_type": "markdown",
      "source": [
        "Penyebab Overfitting:<br>\n",
        "1. Data trainingnya terlalu sedikit\n",
        "2. Datanya tidak beragam\n",
        "3. Model terlalu kompleks\n",
        "4. Proses training terlalu lama"
      ],
      "metadata": {
        "id": "4EPV03V6CRrG"
      }
    },
    {
      "cell_type": "markdown",
      "source": [
        "Cara Mengatasi overfitting:\n",
        "1. Sediakan data yang banyak\n",
        "2. Menggunakan Dropout\n",
        "3. Cross Validation"
      ],
      "metadata": {
        "id": "4Z9jLD5tCyzh"
      }
    },
    {
      "cell_type": "code",
      "execution_count": null,
      "metadata": {
        "id": "4-LYLXEU5CtU",
        "colab": {
          "base_uri": "https://localhost:8080/"
        },
        "outputId": "ec8e58db-f224-4c8a-9cb3-26bfcc881d6f"
      },
      "outputs": [
        {
          "output_type": "stream",
          "name": "stdout",
          "text": [
            "Downloading data from https://storage.googleapis.com/tensorflow/tf-keras-datasets/train-labels-idx1-ubyte.gz\n",
            "29515/29515 [==============================] - 0s 0us/step\n",
            "Downloading data from https://storage.googleapis.com/tensorflow/tf-keras-datasets/train-images-idx3-ubyte.gz\n",
            "26421880/26421880 [==============================] - 0s 0us/step\n",
            "Downloading data from https://storage.googleapis.com/tensorflow/tf-keras-datasets/t10k-labels-idx1-ubyte.gz\n",
            "5148/5148 [==============================] - 0s 0us/step\n",
            "Downloading data from https://storage.googleapis.com/tensorflow/tf-keras-datasets/t10k-images-idx3-ubyte.gz\n",
            "4422102/4422102 [==============================] - 0s 0us/step\n"
          ]
        }
      ],
      "source": [
        "import matplotlib.pyplot as plt\n",
        "from tensorflow.keras.datasets import fashion_mnist\n",
        "\n",
        "(train_images,train_labels),(test_images,test_labels) = fashion_mnist.load_data()"
      ]
    },
    {
      "cell_type": "code",
      "source": [
        "print(\"Ukuran Citra Train\",train_images.shape)\n",
        "print(\"Jumlah Label Train\",train_labels.shape)\n",
        "\n",
        "print(\"Ukuran Citra Test\",test_images.shape)#10.000 itu jumlah gambarnya, 28x28 itu ukuran gambar/citranya\n",
        "print(\"Jumlah Label Test\",test_labels.shape)"
      ],
      "metadata": {
        "colab": {
          "base_uri": "https://localhost:8080/"
        },
        "id": "NFX2NqjvFDNk",
        "outputId": "66d2ad1d-b4d0-49a7-8a6c-4c4674e032f1"
      },
      "execution_count": null,
      "outputs": [
        {
          "output_type": "stream",
          "name": "stdout",
          "text": [
            "Ukuran Citra Train (60000, 28, 28)\n",
            "Jumlah Label Train (60000,)\n",
            "Ukuran Citra Test (10000, 28, 28)\n",
            "Jumlah Label Test (10000,)\n"
          ]
        }
      ]
    },
    {
      "cell_type": "code",
      "source": [
        "print(set(train_labels))"
      ],
      "metadata": {
        "colab": {
          "base_uri": "https://localhost:8080/"
        },
        "id": "U84i287OFITf",
        "outputId": "315b34c5-ea04-488a-9775-55577c3cbbde"
      },
      "execution_count": null,
      "outputs": [
        {
          "output_type": "stream",
          "name": "stdout",
          "text": [
            "{0, 1, 2, 3, 4, 5, 6, 7, 8, 9}\n"
          ]
        }
      ]
    },
    {
      "cell_type": "code",
      "source": [
        "train_images = train_images.reshape((60000,28 * 28))\n",
        "train_images = train_images.astype(\"float32\") / 255\n",
        "\n",
        "test_images = test_images.reshape((10000,28 * 28))\n",
        "test_images = test_images.astype(\"float32\") / 255"
      ],
      "metadata": {
        "id": "q-s2mfrdFL_g"
      },
      "execution_count": null,
      "outputs": []
    },
    {
      "cell_type": "code",
      "source": [
        "#Arsitektur Modelnya\n",
        "import tensorflow as tf\n",
        "import numpy as np\n",
        "\n",
        "model = tf.keras.Sequential([\n",
        "    tf.keras.layers.Dense(512, activation = 'relu'),\n",
        "    tf.keras.layers.Dense(10,activation = 'sigmoid')\n",
        "])"
      ],
      "metadata": {
        "id": "Ty0LqFGXGENC"
      },
      "execution_count": null,
      "outputs": []
    },
    {
      "cell_type": "code",
      "source": [
        "model.compile(optimizer ='rmsprop', loss='sparse_categorical_crossentropy', metrics=['accuracy'])"
      ],
      "metadata": {
        "id": "mUp7x5U_GJfC"
      },
      "execution_count": null,
      "outputs": []
    },
    {
      "cell_type": "code",
      "source": [
        "sampel_train_images = train_images[:100]\n",
        "sampel_train_labels = train_labels[:100]"
      ],
      "metadata": {
        "id": "lbPB_GfbGz9w"
      },
      "execution_count": null,
      "outputs": []
    },
    {
      "cell_type": "code",
      "source": [
        "sampel_train_images.shape"
      ],
      "metadata": {
        "colab": {
          "base_uri": "https://localhost:8080/"
        },
        "id": "yoagpONnHNm7",
        "outputId": "42e37e8f-117f-4276-d62f-bf563663213f"
      },
      "execution_count": null,
      "outputs": [
        {
          "output_type": "execute_result",
          "data": {
            "text/plain": [
              "(100, 784)"
            ]
          },
          "metadata": {},
          "execution_count": 8
        }
      ]
    },
    {
      "cell_type": "code",
      "source": [
        "model.fit(sampel_train_images,sampel_train_labels, epochs= 10, batch_size=128)"
      ],
      "metadata": {
        "colab": {
          "base_uri": "https://localhost:8080/"
        },
        "id": "B2toZa8nGMsU",
        "outputId": "e8b9b5a5-5ca7-4307-ef92-b299c79cbf61"
      },
      "execution_count": null,
      "outputs": [
        {
          "output_type": "stream",
          "name": "stdout",
          "text": [
            "Epoch 1/10\n",
            "1/1 [==============================] - 1s 656ms/step - loss: 2.4643 - accuracy: 0.0600\n",
            "Epoch 2/10\n",
            "1/1 [==============================] - 0s 19ms/step - loss: 2.0027 - accuracy: 0.2700\n",
            "Epoch 3/10\n",
            "1/1 [==============================] - 0s 20ms/step - loss: 2.1707 - accuracy: 0.4400\n",
            "Epoch 4/10\n",
            "1/1 [==============================] - 0s 19ms/step - loss: 1.8179 - accuracy: 0.5500\n",
            "Epoch 5/10\n",
            "1/1 [==============================] - 0s 19ms/step - loss: 1.1472 - accuracy: 0.6500\n",
            "Epoch 6/10\n",
            "1/1 [==============================] - 0s 19ms/step - loss: 0.9650 - accuracy: 0.8100\n",
            "Epoch 7/10\n",
            "1/1 [==============================] - 0s 19ms/step - loss: 0.7730 - accuracy: 0.7700\n",
            "Epoch 8/10\n",
            "1/1 [==============================] - 0s 17ms/step - loss: 0.8109 - accuracy: 0.8300\n",
            "Epoch 9/10\n",
            "1/1 [==============================] - 0s 17ms/step - loss: 0.6645 - accuracy: 0.8500\n",
            "Epoch 10/10\n",
            "1/1 [==============================] - 0s 16ms/step - loss: 0.6119 - accuracy: 0.8300\n"
          ]
        },
        {
          "output_type": "execute_result",
          "data": {
            "text/plain": [
              "<keras.src.callbacks.History at 0x7ca3890ba140>"
            ]
          },
          "metadata": {},
          "execution_count": 9
        }
      ]
    },
    {
      "cell_type": "code",
      "source": [
        "prediksi = model(test_images)\n",
        "prediksi = prediksi.numpy() #supaya hasilnya array\n",
        "prediksi_label = np.argmax(prediksi,axis=1)\n",
        "prediksi_betul = prediksi_label == test_labels\n",
        "print(f\"akurasi hasil data test :{prediksi_betul.mean():.2f}\")"
      ],
      "metadata": {
        "colab": {
          "base_uri": "https://localhost:8080/"
        },
        "id": "xo1GxU7fGf2F",
        "outputId": "1f218361-c645-4c4a-b88a-e5531e4aac93"
      },
      "execution_count": null,
      "outputs": [
        {
          "output_type": "stream",
          "name": "stdout",
          "text": [
            "akurasi hasil data test :0.59\n"
          ]
        }
      ]
    },
    {
      "cell_type": "markdown",
      "source": [
        "Pembuatan Model yang lebih Deep"
      ],
      "metadata": {
        "id": "a8hPONGpLF8r"
      }
    },
    {
      "cell_type": "code",
      "source": [
        "#Arsitektur Modelnya\n",
        "import tensorflow as tf\n",
        "import numpy as np\n",
        "\n",
        "model_kedua = tf.keras.Sequential([\n",
        "    tf.keras.layers.Dense(512, activation = 'relu'),\n",
        "    tf.keras.layers.Dropout(0.5),\n",
        "    tf.keras.layers.Dense(256, activation = 'relu'),\n",
        "    tf.keras.layers.Dropout(0.5),\n",
        "    tf.keras.layers.Dense(128, activation = 'relu'),\n",
        "    tf.keras.layers.Dense(64, activation = 'relu'),\n",
        "    tf.keras.layers.Dense(32, activation = 'relu'),\n",
        "    tf.keras.layers.Dense(10,activation = 'sigmoid')\n",
        "])"
      ],
      "metadata": {
        "id": "6LacwhdbGl66"
      },
      "execution_count": null,
      "outputs": []
    },
    {
      "cell_type": "code",
      "source": [
        "model_kedua.compile(optimizer ='rmsprop', loss='sparse_categorical_crossentropy', metrics=['accuracy'])"
      ],
      "metadata": {
        "id": "NzQrbemzL68F"
      },
      "execution_count": null,
      "outputs": []
    },
    {
      "cell_type": "code",
      "source": [
        "model_kedua.fit(train_images,train_labels, epochs= 10, batch_size=256)"
      ],
      "metadata": {
        "colab": {
          "base_uri": "https://localhost:8080/"
        },
        "id": "ze1fGWTeMv4p",
        "outputId": "e6a6c77d-b018-4871-b0af-92d66ad42d2a"
      },
      "execution_count": null,
      "outputs": [
        {
          "output_type": "stream",
          "name": "stdout",
          "text": [
            "Epoch 1/10\n",
            "235/235 [==============================] - 6s 21ms/step - loss: 0.8153 - accuracy: 0.6984\n",
            "Epoch 2/10\n",
            "235/235 [==============================] - 6s 25ms/step - loss: 0.5164 - accuracy: 0.8125\n",
            "Epoch 3/10\n",
            "235/235 [==============================] - 5s 20ms/step - loss: 0.4604 - accuracy: 0.8342\n",
            "Epoch 4/10\n",
            "235/235 [==============================] - 6s 25ms/step - loss: 0.4294 - accuracy: 0.8452\n",
            "Epoch 5/10\n",
            "235/235 [==============================] - 5s 21ms/step - loss: 0.4135 - accuracy: 0.8504\n",
            "Epoch 6/10\n",
            "235/235 [==============================] - 5s 20ms/step - loss: 0.3936 - accuracy: 0.8578\n",
            "Epoch 7/10\n",
            "235/235 [==============================] - 6s 26ms/step - loss: 0.3829 - accuracy: 0.8617\n",
            "Epoch 8/10\n",
            "235/235 [==============================] - 5s 20ms/step - loss: 0.3701 - accuracy: 0.8656\n",
            "Epoch 9/10\n",
            "235/235 [==============================] - 5s 23ms/step - loss: 0.3641 - accuracy: 0.8677\n",
            "Epoch 10/10\n",
            "235/235 [==============================] - 5s 22ms/step - loss: 0.3567 - accuracy: 0.8718\n"
          ]
        },
        {
          "output_type": "execute_result",
          "data": {
            "text/plain": [
              "<keras.src.callbacks.History at 0x7ca388f2a2c0>"
            ]
          },
          "metadata": {},
          "execution_count": 13
        }
      ]
    },
    {
      "cell_type": "code",
      "source": [
        "model_kedua.summary()"
      ],
      "metadata": {
        "colab": {
          "base_uri": "https://localhost:8080/"
        },
        "id": "xUrMVBHuOAnK",
        "outputId": "aaf41892-5d58-420e-c0e4-1995f5bf6dc6"
      },
      "execution_count": null,
      "outputs": [
        {
          "output_type": "stream",
          "name": "stdout",
          "text": [
            "Model: \"sequential_1\"\n",
            "_________________________________________________________________\n",
            " Layer (type)                Output Shape              Param #   \n",
            "=================================================================\n",
            " dense_2 (Dense)             (None, 512)               401920    \n",
            "                                                                 \n",
            " dropout (Dropout)           (None, 512)               0         \n",
            "                                                                 \n",
            " dense_3 (Dense)             (None, 256)               131328    \n",
            "                                                                 \n",
            " dropout_1 (Dropout)         (None, 256)               0         \n",
            "                                                                 \n",
            " dense_4 (Dense)             (None, 128)               32896     \n",
            "                                                                 \n",
            " dense_5 (Dense)             (None, 64)                8256      \n",
            "                                                                 \n",
            " dense_6 (Dense)             (None, 32)                2080      \n",
            "                                                                 \n",
            " dense_7 (Dense)             (None, 10)                330       \n",
            "                                                                 \n",
            "=================================================================\n",
            "Total params: 576810 (2.20 MB)\n",
            "Trainable params: 576810 (2.20 MB)\n",
            "Non-trainable params: 0 (0.00 Byte)\n",
            "_________________________________________________________________\n"
          ]
        }
      ]
    },
    {
      "cell_type": "code",
      "source": [
        "prediksi = model_kedua(test_images)\n",
        "prediksi = prediksi.numpy() #supaya hasilnya array\n",
        "prediksi_label = np.argmax(prediksi,axis=1)\n",
        "prediksi_betul = prediksi_label == test_labels\n",
        "print(f\"akurasi hasil data test :{prediksi_betul.mean():.2f}\")"
      ],
      "metadata": {
        "colab": {
          "base_uri": "https://localhost:8080/"
        },
        "id": "Rb5FlJB6OC2j",
        "outputId": "99429d6e-b6db-47c0-d2f6-678f23e424b0"
      },
      "execution_count": null,
      "outputs": [
        {
          "output_type": "stream",
          "name": "stdout",
          "text": [
            "akurasi hasil data test :0.86\n"
          ]
        }
      ]
    },
    {
      "cell_type": "markdown",
      "source": [
        "Tujuan Dropout adalah untuk mencegah terjadinya overfitting."
      ],
      "metadata": {
        "id": "SYS4Jnw6QKrE"
      }
    },
    {
      "cell_type": "markdown",
      "source": [
        "Pretrained Model (Model yang sudah dilatih)"
      ],
      "metadata": {
        "id": "CWEkAf_ARn7y"
      }
    },
    {
      "cell_type": "code",
      "source": [
        "model_kedua.save('model_mips_sar.h5')"
      ],
      "metadata": {
        "colab": {
          "base_uri": "https://localhost:8080/"
        },
        "id": "c6uq7aigQJMV",
        "outputId": "9b730fa0-e90d-46f6-e7d6-17c17073808b"
      },
      "execution_count": null,
      "outputs": [
        {
          "output_type": "stream",
          "name": "stderr",
          "text": [
            "/usr/local/lib/python3.10/dist-packages/keras/src/engine/training.py:3103: UserWarning: You are saving your model as an HDF5 file via `model.save()`. This file format is considered legacy. We recommend using instead the native Keras format, e.g. `model.save('my_model.keras')`.\n",
            "  saving_api.save_model(\n"
          ]
        }
      ]
    }
  ]
}